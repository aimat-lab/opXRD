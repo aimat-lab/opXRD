{
 "cells": [
  {
   "metadata": {
    "ExecuteTime": {
     "end_time": "2025-04-24T19:51:27.778522Z",
     "start_time": "2025-04-24T19:51:27.743490Z"
    }
   },
   "cell_type": "code",
   "source": [
    "%load_ext autoreload\n",
    "%autoreload 2"
   ],
   "id": "74745703cace9c9d",
   "outputs": [],
   "execution_count": 1
  },
  {
   "metadata": {
    "ExecuteTime": {
     "end_time": "2025-04-24T19:51:31.093784Z",
     "start_time": "2025-04-24T19:51:27.784846Z"
    }
   },
   "cell_type": "code",
   "source": [
    "from xrdpattern.pattern import XrdPattern\n",
    "\n",
    "XrdPattern.newfunc()"
   ],
   "id": "f428b1cf0666b91c",
   "outputs": [],
   "execution_count": 2
  },
  {
   "metadata": {
    "ExecuteTime": {
     "end_time": "2025-04-24T19:51:37.891235Z",
     "start_time": "2025-04-24T19:51:37.854273Z"
    }
   },
   "cell_type": "code",
   "source": "XrdPattern.a()",
   "id": "3f66b23c7b1ee8f7",
   "outputs": [],
   "execution_count": 4
  },
  {
   "metadata": {},
   "cell_type": "code",
   "outputs": [],
   "execution_count": null,
   "source": "",
   "id": "136711efb7984a17"
  }
 ],
 "metadata": {
  "kernelspec": {
   "display_name": "Python 3",
   "language": "python",
   "name": "python3"
  },
  "language_info": {
   "codemirror_mode": {
    "name": "ipython",
    "version": 2
   },
   "file_extension": ".py",
   "mimetype": "text/x-python",
   "name": "python",
   "nbconvert_exporter": "python",
   "pygments_lexer": "ipython2",
   "version": "2.7.6"
  }
 },
 "nbformat": 4,
 "nbformat_minor": 5
}
