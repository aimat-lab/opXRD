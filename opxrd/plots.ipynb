{
 "cells": [
  {
   "cell_type": "code",
   "outputs": [],
   "source": [
    "%load_ext autoreload"
   ],
   "metadata": {
    "collapsed": false,
    "ExecuteTime": {
     "end_time": "2024-12-20T10:05:05.358711Z",
     "start_time": "2024-12-20T10:05:05.344078Z"
    }
   },
   "id": "7211f100faf9df45",
   "execution_count": 1
  },
  {
   "cell_type": "code",
   "execution_count": null,
   "id": "initial_id",
   "metadata": {
    "collapsed": true,
    "is_executing": true,
    "ExecuteTime": {
     "start_time": "2024-12-20T10:05:05.364610Z"
    }
   },
   "outputs": [],
   "source": [
    "from opxrd.wrapper import OpXRD\n",
    "\n",
    "# ------------------------------------------------------------\n",
    "\n",
    "smoltest_dirpath = '/home/daniel/aimat/data/opXRD/test_smol'\n",
    "bigtest_dirpath = '/home/daniel/aimat/data/opXRD/test'\n",
    "test_databases = OpXRD.load_project_list(root_dirpath=bigtest_dirpath)"
   ]
  },
  {
   "cell_type": "code",
   "outputs": [],
   "source": [
    "from opxrd.analysis import DatabaseAnalyser\n",
    "\n",
    "%autoreload 2\n",
    "\n",
    "analyser = DatabaseAnalyser(databases=test_databases, output_dirpath='/tmp/opxrd_analysis')\n",
    "analyser.plot_effective_components()\n",
    "analyser.plot_effective_components(use_fractions=False)"
   ],
   "metadata": {
    "collapsed": false,
    "is_executing": true
   },
   "id": "c14d9c0edd93b752",
   "execution_count": null
  },
  {
   "cell_type": "code",
   "outputs": [],
   "source": [
    "analyser.plot_fourier_reference(b1=60, c1=1, b2=80, c2=1)"
   ],
   "metadata": {
    "collapsed": false,
    "is_executing": true
   },
   "id": "2691daca3eb60b9a",
   "execution_count": null
  },
  {
   "cell_type": "code",
   "outputs": [],
   "source": [
    "#analyser.plot_fourier()"
   ],
   "metadata": {
    "collapsed": false,
    "is_executing": true
   },
   "id": "5dd7d5c996b1c45e",
   "execution_count": null
  },
  {
   "cell_type": "code",
   "outputs": [],
   "source": [
    "analyser.plot_in_single(limit_patterns=10)"
   ],
   "metadata": {
    "collapsed": false,
    "is_executing": true
   },
   "id": "2a195898de64fa10",
   "execution_count": null
  },
  {
   "cell_type": "code",
   "outputs": [],
   "source": [
    "analyser.plot_in_single(limit_patterns=50)"
   ],
   "metadata": {
    "collapsed": false,
    "is_executing": true
   },
   "id": "c17f1651340f6686",
   "execution_count": null
  },
  {
   "cell_type": "code",
   "outputs": [],
   "source": [
    "analyser.plot_in_single(limit_patterns=100)"
   ],
   "metadata": {
    "collapsed": false,
    "is_executing": true
   },
   "id": "a0ec8a85f8f9b378",
   "execution_count": null
  },
  {
   "cell_type": "code",
   "outputs": [],
   "source": [
    "analyser.plot_in_single(limit_patterns=1000)"
   ],
   "metadata": {
    "collapsed": false,
    "is_executing": true
   },
   "id": "65877196b2c233da",
   "execution_count": null
  },
  {
   "cell_type": "code",
   "outputs": [],
   "source": [
    "%autore\n",
    "analyser.plot_effective_components()"
   ],
   "metadata": {
    "collapsed": false,
    "is_executing": true
   },
   "id": "3b1bc53693da4eca",
   "execution_count": null
  },
  {
   "cell_type": "code",
   "outputs": [],
   "source": [
    "analyser.plot_histogram()"
   ],
   "metadata": {
    "collapsed": false,
    "is_executing": true
   },
   "id": "7b2617ecf9468149",
   "execution_count": null
  },
  {
   "cell_type": "code",
   "outputs": [],
   "source": [
    "analyser.show_label_fractions()\n",
    "analyser.print_total_counts()"
   ],
   "metadata": {
    "collapsed": false,
    "is_executing": true
   },
   "id": "e8b0ca18dda5dd22",
   "execution_count": null
  },
  {
   "cell_type": "code",
   "outputs": [],
   "source": [],
   "metadata": {
    "collapsed": false,
    "is_executing": true
   },
   "id": "3de15c3a4bb48f1e"
  }
 ],
 "metadata": {
  "kernelspec": {
   "display_name": "Python 3",
   "language": "python",
   "name": "python3"
  },
  "language_info": {
   "codemirror_mode": {
    "name": "ipython",
    "version": 2
   },
   "file_extension": ".py",
   "mimetype": "text/x-python",
   "name": "python",
   "nbconvert_exporter": "python",
   "pygments_lexer": "ipython2",
   "version": "2.7.6"
  }
 },
 "nbformat": 4,
 "nbformat_minor": 5
}
