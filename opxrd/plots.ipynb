{
 "cells": [
  {
   "cell_type": "code",
   "execution_count": 1,
   "id": "initial_id",
   "metadata": {
    "collapsed": true,
    "ExecuteTime": {
     "end_time": "2024-12-20T08:31:33.433408Z",
     "start_time": "2024-12-20T08:31:28.806604Z"
    }
   },
   "outputs": [
    {
     "name": "stdout",
     "output_type": "stream",
     "text": [
      "- Loading databases from /home/daniel/aimat/data/opXRD/test_smol\n",
      "\u001B[20m[2024-12-20 09:31:31]: Loading patterns from local dirpath /home/daniel/aimat/data/opXRD/test_smol/USC\u001B[0m\n"
     ]
    },
    {
     "name": "stderr",
     "output_type": "stream",
     "text": [
      "\u001B[38;2;0;255;0m100%\u001B[39m \u001B[38;2;0;255;0m(174 of 174)\u001B[39m |######################| Elapsed Time: 0:00:00 Time:  0:00:000:00\n"
     ]
    },
    {
     "name": "stdout",
     "output_type": "stream",
     "text": [
      "\u001B[20m[2024-12-20 09:31:32]: Finished loading pattern database located at /home/daniel/aimat/data/opXRD/test_smol/USC\u001B[0m\n",
      "\u001B[20m[2024-12-20 09:31:32]: Successfully extracted 174 patterns from 174/174 xrd files\u001B[0m\n",
      "\u001B[20m[2024-12-20 09:31:32]: Loading patterns from local dirpath /home/daniel/aimat/data/opXRD/test_smol/CNRS\u001B[0m\n"
     ]
    },
    {
     "name": "stderr",
     "output_type": "stream",
     "text": [
      "\u001B[38;2;0;255;0m100%\u001B[39m \u001B[38;2;0;255;0m(210 of 210)\u001B[39m |######################| Elapsed Time: 0:00:01 Time:  0:00:010000\n"
     ]
    },
    {
     "name": "stdout",
     "output_type": "stream",
     "text": [
      "\u001B[20m[2024-12-20 09:31:33]: Finished loading pattern database located at /home/daniel/aimat/data/opXRD/test_smol/CNRS\u001B[0m\n",
      "\u001B[20m[2024-12-20 09:31:33]: Successfully extracted 210 patterns from 210/210 xrd files\u001B[0m\n"
     ]
    }
   ],
   "source": [
    "from opxrd.wrapper import OpXRD\n",
    "\n",
    "# ------------------------------------------------------------\n",
    "\n",
    "smoltest_dirpath = '/home/daniel/aimat/data/opXRD/test_smol'\n",
    "bigtest_dirpath = '/home/daniel/aimat/data/opXRD/test'\n",
    "test_databases = OpXRD.load_project_list(root_dirpath=smoltest_dirpath)"
   ]
  },
  {
   "cell_type": "code",
   "outputs": [],
   "source": [
    "from opxrd.analysis import DatabaseAnalyser\n",
    "\n",
    "analyser = DatabaseAnalyser(databases=test_databases, output_dirpath='/tmp/opxrd_analysis')"
   ],
   "metadata": {
    "collapsed": false,
    "ExecuteTime": {
     "end_time": "2024-12-20T08:31:33.688901Z",
     "start_time": "2024-12-20T08:31:33.434760Z"
    }
   },
   "id": "c14d9c0edd93b752",
   "execution_count": 2
  },
  {
   "cell_type": "code",
   "outputs": [
    {
     "data": {
      "text/plain": "<IPython.core.display.Markdown object>",
      "text/markdown": "---> Fourier transform of a Gaussian function $I(x) = e^{{-0.5(x-b)^2/c}$$b = 5, c =  0.4$"
     },
     "metadata": {},
     "output_type": "display_data"
    },
    {
     "ename": "TypeError",
     "evalue": "'numpy.ndarray' object is not callable",
     "output_type": "error",
     "traceback": [
      "\u001B[0;31m---------------------------------------------------------------------------\u001B[0m",
      "\u001B[0;31mTypeError\u001B[0m                                 Traceback (most recent call last)",
      "Cell \u001B[0;32mIn[3], line 1\u001B[0m\n\u001B[0;32m----> 1\u001B[0m \u001B[43manalyser\u001B[49m\u001B[38;5;241;43m.\u001B[39;49m\u001B[43mplot_fourier_reference\u001B[49m\u001B[43m(\u001B[49m\u001B[43mb\u001B[49m\u001B[38;5;241;43m=\u001B[39;49m\u001B[38;5;241;43m5\u001B[39;49m\u001B[43m,\u001B[49m\u001B[43m \u001B[49m\u001B[43mc\u001B[49m\u001B[38;5;241;43m=\u001B[39;49m\u001B[43m \u001B[49m\u001B[38;5;241;43m0.4\u001B[39;49m\u001B[43m)\u001B[49m\n",
      "File \u001B[0;32m~/aimat/opxrd/opxrd/analysis.py:95\u001B[0m, in \u001B[0;36mDatabaseAnalyser.plot_fourier_reference\u001B[0;34m(self, b, c)\u001B[0m\n\u001B[1;32m     90\u001B[0m \u001B[38;5;28mself\u001B[39m\u001B[38;5;241m.\u001B[39mprint_text(\n\u001B[1;32m     91\u001B[0m     \u001B[38;5;124mr\u001B[39m\u001B[38;5;124m'\u001B[39m\u001B[38;5;124m---> Fourier transform of a Gaussian function $I(x) = e^\u001B[39m\u001B[38;5;124m{{\u001B[39m\u001B[38;5;124m-0.5(x-b)^2/c}$\u001B[39m\u001B[38;5;124m'\u001B[39m \u001B[38;5;241m+\u001B[39m \u001B[38;5;124mf\u001B[39m\u001B[38;5;124m'\u001B[39m\u001B[38;5;124m$b = \u001B[39m\u001B[38;5;132;01m{\u001B[39;00mb\u001B[38;5;132;01m}\u001B[39;00m\u001B[38;5;124m, c =  \u001B[39m\u001B[38;5;132;01m{\u001B[39;00mc\u001B[38;5;132;01m}\u001B[39;00m\u001B[38;5;124m$\u001B[39m\u001B[38;5;124m'\u001B[39m)\n\u001B[1;32m     93\u001B[0m y \u001B[38;5;241m=\u001B[39m np\u001B[38;5;241m.\u001B[39mexp(\u001B[38;5;241m-\u001B[39m\u001B[38;5;241m1\u001B[39m \u001B[38;5;241m/\u001B[39m \u001B[38;5;241m2\u001B[39m \u001B[38;5;241m*\u001B[39m (x \u001B[38;5;241m-\u001B[39m b) \u001B[38;5;241m*\u001B[39m\u001B[38;5;241m*\u001B[39m \u001B[38;5;241m2\u001B[39m \u001B[38;5;241m/\u001B[39m c)\n\u001B[0;32m---> 95\u001B[0m xf, yf \u001B[38;5;241m=\u001B[39m \u001B[38;5;28;43mself\u001B[39;49m\u001B[38;5;241;43m.\u001B[39;49m\u001B[43mcompute_fourier\u001B[49m\u001B[43m(\u001B[49m\u001B[43mx\u001B[49m\u001B[43m,\u001B[49m\u001B[43m \u001B[49m\u001B[43my\u001B[49m\u001B[43m)\u001B[49m\n\u001B[1;32m     96\u001B[0m fig, (ax1, ax2) \u001B[38;5;241m=\u001B[39m plt\u001B[38;5;241m.\u001B[39msubplots(\u001B[38;5;241m1\u001B[39m, \u001B[38;5;241m2\u001B[39m, figsize\u001B[38;5;241m=\u001B[39m(\u001B[38;5;241m12\u001B[39m, \u001B[38;5;241m4\u001B[39m))\n\u001B[1;32m     98\u001B[0m \u001B[38;5;66;03m# Gaussian plot\u001B[39;00m\n",
      "File \u001B[0;32m~/aimat/opxrd/opxrd/analysis.py:226\u001B[0m, in \u001B[0;36mDatabaseAnalyser.compute_fourier\u001B[0;34m(x, f)\u001B[0m\n\u001B[1;32m    224\u001B[0m \u001B[38;5;129m@staticmethod\u001B[39m\n\u001B[1;32m    225\u001B[0m \u001B[38;5;28;01mdef\u001B[39;00m \u001B[38;5;21mcompute_fourier\u001B[39m(x: NDArray, f: Callable):\n\u001B[0;32m--> 226\u001B[0m     y \u001B[38;5;241m=\u001B[39m \u001B[43mf\u001B[49m\u001B[43m(\u001B[49m\u001B[43mx\u001B[49m\u001B[43m)\u001B[49m\n\u001B[1;32m    227\u001B[0m     N \u001B[38;5;241m=\u001B[39m \u001B[38;5;28mlen\u001B[39m(y)\n\u001B[1;32m    228\u001B[0m     T \u001B[38;5;241m=\u001B[39m (x[\u001B[38;5;241m-\u001B[39m\u001B[38;5;241m1\u001B[39m] \u001B[38;5;241m-\u001B[39m x[\u001B[38;5;241m0\u001B[39m]) \u001B[38;5;241m/\u001B[39m (N \u001B[38;5;241m-\u001B[39m \u001B[38;5;241m1\u001B[39m)\n",
      "\u001B[0;31mTypeError\u001B[0m: 'numpy.ndarray' object is not callable"
     ]
    }
   ],
   "source": [
    "analyser.plot_fourier_reference(b=5, c= 0.4)"
   ],
   "metadata": {
    "collapsed": false,
    "ExecuteTime": {
     "end_time": "2024-12-20T08:31:33.857516Z",
     "start_time": "2024-12-20T08:31:33.689872Z"
    }
   },
   "id": "2691daca3eb60b9a",
   "execution_count": 3
  },
  {
   "cell_type": "code",
   "outputs": [],
   "source": [
    "analyser.plot_fourier()"
   ],
   "metadata": {
    "collapsed": false
   },
   "id": "5dd7d5c996b1c45e",
   "execution_count": null
  },
  {
   "cell_type": "code",
   "outputs": [],
   "source": [
    "analyser.plot_in_single(limit_patterns=10)"
   ],
   "metadata": {
    "collapsed": false,
    "ExecuteTime": {
     "end_time": "2024-12-20T08:31:33.860531Z",
     "start_time": "2024-12-20T08:31:33.860206Z"
    }
   },
   "id": "2a195898de64fa10",
   "execution_count": null
  },
  {
   "cell_type": "code",
   "outputs": [],
   "source": [
    "analyser.plot_in_single(limit_patterns=50)"
   ],
   "metadata": {
    "collapsed": false
   },
   "id": "c17f1651340f6686",
   "execution_count": null
  },
  {
   "cell_type": "code",
   "outputs": [],
   "source": [
    "analyser.plot_in_single(limit_patterns=1000)"
   ],
   "metadata": {
    "collapsed": false
   },
   "id": "65877196b2c233da",
   "execution_count": null
  },
  {
   "cell_type": "code",
   "outputs": [],
   "source": [
    "analyser.plot_effective_components()"
   ],
   "metadata": {
    "collapsed": false
   },
   "id": "3b1bc53693da4eca",
   "execution_count": null
  },
  {
   "cell_type": "code",
   "outputs": [],
   "source": [
    "analyser.plot_histogram()"
   ],
   "metadata": {
    "collapsed": false
   },
   "id": "7b2617ecf9468149",
   "execution_count": null
  },
  {
   "cell_type": "code",
   "outputs": [],
   "source": [
    "analyser.show_label_fractions()\n",
    "analyser.print_total_counts()"
   ],
   "metadata": {
    "collapsed": false
   },
   "id": "e8b0ca18dda5dd22",
   "execution_count": null
  }
 ],
 "metadata": {
  "kernelspec": {
   "display_name": "Python 3",
   "language": "python",
   "name": "python3"
  },
  "language_info": {
   "codemirror_mode": {
    "name": "ipython",
    "version": 2
   },
   "file_extension": ".py",
   "mimetype": "text/x-python",
   "name": "python",
   "nbconvert_exporter": "python",
   "pygments_lexer": "ipython2",
   "version": "2.7.6"
  }
 },
 "nbformat": 4,
 "nbformat_minor": 5
}
