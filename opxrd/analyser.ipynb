{
 "cells": [
  {
   "cell_type": "code",
   "outputs": [],
   "source": [
    "\n",
    "import math\n",
    "import os\n",
    "import random\n",
    "\n",
    "import numpy as np\n",
    "from numpy.typing import NDArray\n",
    "from sklearn.decomposition import PCA\n",
    "from tabulate import tabulate\n",
    "\n",
    "from xrdpattern.pattern import PatternDB\n",
    "from xrdpattern.pattern import XrdPattern\n",
    "from matplotlib import pyplot as plt\n",
    "\n",
    "from opxrd import OpXRD\n",
    "from xrdpattern.xrd import LabelType\n",
    "\n",
    "from holytools.devtools import Profiler\n",
    "profiler = Profiler()\n"
   ],
   "metadata": {
    "collapsed": false,
    "ExecuteTime": {
     "end_time": "2024-12-19T13:22:09.421017Z",
     "start_time": "2024-12-19T13:22:05.796854Z"
    }
   },
   "id": "b78ceb00f09da796",
   "execution_count": 1
  },
  {
   "cell_type": "code",
   "execution_count": 74,
   "id": "initial_id",
   "metadata": {
    "collapsed": true,
    "ExecuteTime": {
     "end_time": "2024-12-19T13:58:24.808636Z",
     "start_time": "2024-12-19T13:58:24.791873Z"
    }
   },
   "outputs": [],
   "source": [
    "from IPython.display import Latex\n",
    "\n",
    "class DatabaseAnalyser:\n",
    "    def __init__(self, databases : list[PatternDB], output_dirpath : str):\n",
    "        if len(databases) == 0:\n",
    "            raise ValueError('No databases provided')\n",
    "        self.databases : list[PatternDB] = databases\n",
    "        self.joined_db : PatternDB = PatternDB.merge(databases)\n",
    "        self.output_dirpath : str = output_dirpath\n",
    "        os.makedirs(self.output_dirpath, exist_ok=True)\n",
    "\n",
    "        random.seed(42)\n",
    "\n",
    "    def run_all(self):\n",
    "        print(f'Running analysis for {len(self.databases)} databases: {[db.name for db in self.databases]}')\n",
    "        \n",
    "        self.plot_in_single(limit_patterns = 10)\n",
    "        self.plot_in_single(limit_patterns = 50)\n",
    "        self.plot_in_single(limit_patterns = 100)\n",
    "        # self.plot_fourier(max_freq=2)\n",
    "        # self.plot_pca_scatter()\n",
    "        self.plot_effective_components()\n",
    "        \n",
    "        self.plot_histogram()\n",
    "        self.show_label_fractions()\n",
    "        self.print_total_counts()\n",
    "\n",
    "    def plot_in_single(self, limit_patterns : int):\n",
    "        lower_alphabet = [chr(i) for i in range(97, 123)]\n",
    "        explanation = [f'{letter}:{db.name}' for letter, db in zip(lower_alphabet, self.databases)]\n",
    "        self.print_text(f'---> Combined pattern plot for databaes {explanation} | No. patterns = {limit_patterns}')\n",
    "        \n",
    "        lower_alphabet = [chr(i) for i in range(97, 123)]\n",
    "        save_fpath = os.path.join(self.output_dirpath, f'ALL_pattern_multiplot.png')\n",
    "\n",
    "        cols = 3\n",
    "        rows = math.ceil(len(self.databases) / cols)\n",
    "        num_plots = len(self.databases)\n",
    "        fig = plt.figure(dpi=600, figsize=(cols * 3, rows * 3))\n",
    "        axes = []\n",
    "        for i in range(num_plots):\n",
    "            if i != 0:\n",
    "                ax = fig.add_subplot(rows, cols, i + 1, sharex=axes[0], sharey=axes[0])\n",
    "            else:\n",
    "                ax = fig.add_subplot(rows, cols, i + 1)\n",
    "            axes.append(ax)\n",
    "\n",
    "        for letter, ax, database in zip(lower_alphabet, axes, self.databases):\n",
    "            patterns = database.patterns[:limit_patterns]\n",
    "            data = [p.get_pattern_data() for p in patterns]\n",
    "\n",
    "            for x, y in data:\n",
    "                ax.plot(x, y, linewidth=0.25, alpha=0.50, linestyle='--')\n",
    "            title = f'{letter})'\n",
    "\n",
    "            if title:\n",
    "                ax.set_title(title, loc='left')\n",
    "\n",
    "        fig.supylabel('Standardized relative intensity (a.u.)')\n",
    "        fig.supxlabel(r'$2\\theta$ [$^\\circ$]', ha='center')\n",
    "        \n",
    "        plt.tight_layout()\n",
    "        plt.savefig(f'{save_fpath}')\n",
    "        plt.show()\n",
    "\n",
    "    def plot_fourier(self, max_freq=5):\n",
    "        for db in self.databases:\n",
    "            fig, ax = plt.subplots(figsize=(10, 4), dpi=300)\n",
    "            patterns = db.patterns[:10]\n",
    "            for p in patterns:\n",
    "                x,y = p.get_pattern_data()\n",
    "                xf, yf = self.compute_fourier_transform(x, y, max_freq)\n",
    "\n",
    "                xf, yf = xf[100:], yf[100:]\n",
    "\n",
    "                plt.plot(xf, yf, linewidth=0.75, linestyle='--', alpha=0.75)\n",
    "\n",
    "            ax.set_title(f'{db.name} patterns Fourier transform ' + r'$F(k)=\\int d(2\\theta) I(2\\theta) e^{-ik2\\theta}$' + f' [No. patterns = {len(patterns)}]')\n",
    "            ax.set_xlabel(r'k [deg$^{−1}$]')\n",
    "            ax.set_ylabel('|F($k$)| (a.u.)')\n",
    "\n",
    "            plt.savefig(os.path.join(self.output_dirpath, f'{db.name}_fourier.png'))\n",
    "            plt.show()\n",
    "\n",
    "    def plot_effective_components(self):\n",
    "        # self.print_text(r'---> Average $\\overline{\\Delta}$ over fraction of max components per database; '\n",
    "        #                 r'$\\Delta = \\frac{|| I(2\\theta) - I(2\\theta)_{PCA}||}{||I(2\\theta)||}$')\n",
    "        self.print_text(r'Cumulative explained variance ratio $v$ over components |  $v =  \\frac{\\sum_i \\lambda_i}{\\sum^n_{j=1} \\lambda_j}$')\n",
    "        # markers = ['o','s','^','v','D','p','*','+','x']\n",
    "\n",
    "        num_entries = XrdPattern.std_num_entries()\n",
    "        for db_num, db in enumerate(self.databases):\n",
    "            max_components = min(len(db.patterns), XrdPattern.std_num_entries())\n",
    "            standardized_intensities = [p.get_pattern_data()[1] for p in db.patterns]\n",
    "            print(f'[Debug]: Performing PCA for {db.name} | No. patterns = {len(standardized_intensities)}')\n",
    "            pca = PCA(n_components=max_components)\n",
    "            pca.fit_transform(standardized_intensities)\n",
    "\n",
    "            accuracies = []\n",
    "            # components_list = np.linspace(0,1, num=20)\n",
    "            components_list = range(300)\n",
    "            for n_comp in components_list:\n",
    "                # n_comp = int(frac * max_components)\n",
    "                explained_variance = np.sum(pca.explained_variance_ratio_[:n_comp])\n",
    "                accuracies.append(explained_variance)\n",
    "\n",
    "            # plt.plot(components_list,accuracies, label=db.name, marker=markers[db_num])\n",
    "            plt.plot(components_list,accuracies, label=db.name)\n",
    "            \n",
    "        plt.xlabel(f'No. components')\n",
    "        plt.ylabel(f'Cumulative explained variance $V$')\n",
    "        plt.xlim(0, num_entries//2)\n",
    "        plt.ylim(0.6, 1)\n",
    "        plt.legend(loc='lower right')\n",
    "        plt.savefig(os.path.join(self.output_dirpath, f'ALL_effective_components.png'))\n",
    "\n",
    "        plt.show()\n",
    "\n",
    "    def plot_histogram(self):\n",
    "        self.print_text(f'---> Histograms')\n",
    "        self.joined_db.show_histograms(save_fpath=os.path.join(self.output_dirpath, 'ALL_histogram.png'), attach_colorbar=False)\n",
    "\n",
    "    def show_label_fractions(self):\n",
    "        self.print_text(f'---> Overview of label fractions per contribution')\n",
    "        table_data = []\n",
    "        for d in self.databases:\n",
    "            label_counts = {l: 0 for l in LabelType}\n",
    "            patterns = d.patterns\n",
    "            for l in LabelType:\n",
    "                for p in patterns:\n",
    "                    if p.has_label(label_type=l):\n",
    "                        label_counts[l] += 1\n",
    "            db_percentages = [label_counts[l] / len(patterns) for l in LabelType]\n",
    "            table_data.append(db_percentages)\n",
    "\n",
    "        col_headers = [label.name for label in LabelType]\n",
    "        row_headers = [db.name for db in self.databases]\n",
    "\n",
    "        table = tabulate(table_data, headers=col_headers, showindex=row_headers, tablefmt='psql')\n",
    "        print(table)\n",
    "\n",
    "    def print_total_counts(self):\n",
    "        self.print_text(f'---> Total pattern counts in opXRD')\n",
    "        num_total = len(self.get_all_patterns())\n",
    "\n",
    "        labeled_patterns = [p for p in self.get_all_patterns() if p.is_labeled()]\n",
    "        num_labelel = len(labeled_patterns)\n",
    "        print(f'Total number of patterns = {num_total}')\n",
    "        print(f'Number of labeled patterns = {num_labelel}')\n",
    "\n",
    "\n",
    "    @staticmethod\n",
    "    def compute_fourier_transform(x,y, max_freq : float):\n",
    "        N = len(y)\n",
    "        T = (x[-1] - x[0]) / (N - 1)\n",
    "        yf = np.fft.fft(y)\n",
    "        xf = np.fft.fftfreq(N, T)[:N // 2]\n",
    "\n",
    "        magnitude = 2.0 / N * np.abs(yf[:N // 2])\n",
    "        valid_indices = xf <= max_freq\n",
    "\n",
    "        xf = xf[valid_indices]\n",
    "        yf = magnitude[valid_indices]\n",
    "        return xf, yf\n",
    "\n",
    "    @staticmethod\n",
    "    def compute_mismatch(i1 : NDArray, i2 : NDArray) -> float:\n",
    "        norm_original = np.linalg.norm(i1) / len(i1)\n",
    "        delta_norm = np.linalg.norm(i1 - i2)/len(i1)\n",
    "        mismatch = delta_norm / norm_original\n",
    "\n",
    "        return mismatch\n",
    "\n",
    "    # -----------------------\n",
    "    # tools\n",
    "\n",
    "    def get_all_patterns(self) -> list[XrdPattern]:\n",
    "        return self.joined_db.patterns\n",
    "    \n",
    "    @staticmethod\n",
    "    def print_text(msg : str):\n",
    "        display(Latex(msg))"
   ]
  },
  {
   "cell_type": "code",
   "outputs": [
    {
     "name": "stdout",
     "output_type": "stream",
     "text": [
      "- Loading databases from /home/daniel/aimat/data/opXRD/test\n",
      "\u001B[20m[2024-12-19 14:58:50]: Loading patterns from local dirpath /home/daniel/aimat/data/opXRD/test/USC\u001B[0m\n"
     ]
    },
    {
     "name": "stderr",
     "output_type": "stream",
     "text": [
      "\u001B[38;2;0;255;0m100%\u001B[39m \u001B[38;2;0;255;0m(338 of 338)\u001B[39m |######################| Elapsed Time: 0:00:00 Time:  0:00:000000\n"
     ]
    },
    {
     "name": "stdout",
     "output_type": "stream",
     "text": [
      "\u001B[20m[2024-12-19 14:58:51]: Finished loading pattern database located at /home/daniel/aimat/data/opXRD/test/USC\u001B[0m\n",
      "\u001B[20m[2024-12-19 14:58:51]: Successfully extracted 338 patterns from 338/338 xrd files\u001B[0m\n",
      "\u001B[20m[2024-12-19 14:58:51]: Loading patterns from local dirpath /home/daniel/aimat/data/opXRD/test/CNRS\u001B[0m\n"
     ]
    },
    {
     "name": "stderr",
     "output_type": "stream",
     "text": [
      "\u001B[38;2;0;255;0m100%\u001B[39m \u001B[38;2;0;255;0m(210 of 210)\u001B[39m |######################| Elapsed Time: 0:00:01 Time:  0:00:010000\n"
     ]
    },
    {
     "name": "stdout",
     "output_type": "stream",
     "text": [
      "\u001B[20m[2024-12-19 14:58:52]: Finished loading pattern database located at /home/daniel/aimat/data/opXRD/test/CNRS\u001B[0m\n",
      "\u001B[20m[2024-12-19 14:58:52]: Successfully extracted 210 patterns from 210/210 xrd files\u001B[0m\n",
      "- Loading databases from /home/daniel/aimat/data/opXRD/final\n",
      "\u001B[20m[2024-12-19 14:58:52]: Loading patterns from local dirpath /home/daniel/aimat/data/opXRD/final/EMPA\u001B[0m\n"
     ]
    },
    {
     "name": "stderr",
     "output_type": "stream",
     "text": [
      "\u001B[38;2;0;255;0m100%\u001B[39m \u001B[38;2;0;255;0m(770 of 770)\u001B[39m |######################| Elapsed Time: 0:00:01 Time:  0:00:010000\n"
     ]
    },
    {
     "name": "stdout",
     "output_type": "stream",
     "text": [
      "\u001B[20m[2024-12-19 14:58:53]: Finished loading pattern database located at /home/daniel/aimat/data/opXRD/final/EMPA\u001B[0m\n",
      "\u001B[20m[2024-12-19 14:58:53]: Successfully extracted 770 patterns from 770/770 xrd files\u001B[0m\n",
      "\u001B[20m[2024-12-19 14:58:53]: Loading patterns from local dirpath /home/daniel/aimat/data/opXRD/final/LBNL/UiO_compounds\u001B[0m\n"
     ]
    },
    {
     "name": "stderr",
     "output_type": "stream",
     "text": [
      "\u001B[38;2;0;255;0m100%\u001B[39m \u001B[38;2;0;255;0m(1348 of 1348)\u001B[39m |####################| Elapsed Time: 0:00:01 Time:  0:00:010000\n"
     ]
    },
    {
     "name": "stdout",
     "output_type": "stream",
     "text": [
      "\u001B[20m[2024-12-19 14:58:54]: Finished loading pattern database located at /home/daniel/aimat/data/opXRD/final/LBNL/UiO_compounds\u001B[0m\n",
      "\u001B[20m[2024-12-19 14:58:54]: Successfully extracted 1348 patterns from 1348/1348 xrd files\u001B[0m\n",
      "\u001B[20m[2024-12-19 14:58:56]: Loading patterns from local dirpath /home/daniel/aimat/data/opXRD/final/LBNL/perovskite_precursor_solutions\u001B[0m\n"
     ]
    },
    {
     "name": "stderr",
     "output_type": "stream",
     "text": [
      "\u001B[38;2;0;255;0m100%\u001B[39m \u001B[38;2;0;255;0m(68322 of 68322)\u001B[39m |##################| Elapsed Time: 0:01:23 Time:  0:01:230006\n"
     ]
    },
    {
     "name": "stdout",
     "output_type": "stream",
     "text": [
      "\u001B[20m[2024-12-19 15:00:20]: Finished loading pattern database located at /home/daniel/aimat/data/opXRD/final/LBNL/perovskite_precursor_solutions\u001B[0m\n",
      "\u001B[20m[2024-12-19 15:00:20]: Successfully extracted 68322 patterns from 68322/68322 xrd files\u001B[0m\n",
      "\u001B[20m[2024-12-19 15:00:20]: Loading patterns from local dirpath /home/daniel/aimat/data/opXRD/final/LBNL/MnSbO_annealing\u001B[0m\n"
     ]
    },
    {
     "name": "stderr",
     "output_type": "stream",
     "text": [
      "\u001B[38;2;0;255;0m100%\u001B[39m \u001B[38;2;0;255;0m(342 of 342)\u001B[39m |######################| Elapsed Time: 0:00:00 Time:  0:00:000000\n"
     ]
    },
    {
     "name": "stdout",
     "output_type": "stream",
     "text": [
      "\u001B[20m[2024-12-19 15:00:20]: Finished loading pattern database located at /home/daniel/aimat/data/opXRD/final/LBNL/MnSbO_annealing\u001B[0m\n",
      "\u001B[20m[2024-12-19 15:00:20]: Successfully extracted 342 patterns from 342/342 xrd files\u001B[0m\n",
      "\u001B[20m[2024-12-19 15:00:20]: Loading patterns from local dirpath /home/daniel/aimat/data/opXRD/final/USC\u001B[0m\n"
     ]
    },
    {
     "name": "stderr",
     "output_type": "stream",
     "text": [
      "\u001B[38;2;0;255;0m100%\u001B[39m \u001B[38;2;0;255;0m(338 of 338)\u001B[39m |######################| Elapsed Time: 0:00:00 Time:  0:00:000000\n"
     ]
    },
    {
     "name": "stdout",
     "output_type": "stream",
     "text": [
      "\u001B[20m[2024-12-19 15:00:21]: Finished loading pattern database located at /home/daniel/aimat/data/opXRD/final/USC\u001B[0m\n",
      "\u001B[20m[2024-12-19 15:00:21]: Successfully extracted 338 patterns from 338/338 xrd files\u001B[0m\n",
      "\u001B[20m[2024-12-19 15:00:22]: Loading patterns from local dirpath /home/daniel/aimat/data/opXRD/final/INT\u001B[0m\n"
     ]
    },
    {
     "name": "stderr",
     "output_type": "stream",
     "text": [
      "\u001B[38;2;0;255;0m100%\u001B[39m \u001B[38;2;0;255;0m(19796 of 19796)\u001B[39m |##################| Elapsed Time: 0:00:44 Time:  0:00:440003\n"
     ]
    },
    {
     "name": "stdout",
     "output_type": "stream",
     "text": [
      "\u001B[20m[2024-12-19 15:01:06]: Finished loading pattern database located at /home/daniel/aimat/data/opXRD/final/INT\u001B[0m\n",
      "\u001B[20m[2024-12-19 15:01:06]: Successfully extracted 19796 patterns from 19796/19796 xrd files\u001B[0m\n",
      "\u001B[20m[2024-12-19 15:01:06]: Loading patterns from local dirpath /home/daniel/aimat/data/opXRD/final/HKUST/in_house\u001B[0m\n"
     ]
    },
    {
     "name": "stderr",
     "output_type": "stream",
     "text": [
      "\u001B[38;2;0;255;0m100%\u001B[39m \u001B[38;2;0;255;0m(21 of 21)\u001B[39m |########################| Elapsed Time: 0:00:00 Time:  0:00:0000\n"
     ]
    },
    {
     "name": "stdout",
     "output_type": "stream",
     "text": [
      "\u001B[20m[2024-12-19 15:01:06]: Finished loading pattern database located at /home/daniel/aimat/data/opXRD/final/HKUST/in_house\u001B[0m\n",
      "\u001B[20m[2024-12-19 15:01:06]: Successfully extracted 21 patterns from 21/21 xrd files\u001B[0m\n",
      "\u001B[20m[2024-12-19 15:01:06]: Loading patterns from local dirpath /home/daniel/aimat/data/opXRD/final/HKUST/accumulated\u001B[0m\n"
     ]
    },
    {
     "name": "stderr",
     "output_type": "stream",
     "text": [
      "\u001B[38;2;0;255;0m100%\u001B[39m \u001B[38;2;0;255;0m(499 of 499)\u001B[39m |######################| Elapsed Time: 0:00:02 Time:  0:00:020000\n"
     ]
    },
    {
     "name": "stdout",
     "output_type": "stream",
     "text": [
      "\u001B[20m[2024-12-19 15:01:09]: Finished loading pattern database located at /home/daniel/aimat/data/opXRD/final/HKUST/accumulated\u001B[0m\n",
      "\u001B[20m[2024-12-19 15:01:09]: Successfully extracted 499 patterns from 499/499 xrd files\u001B[0m\n",
      "\u001B[20m[2024-12-19 15:01:09]: Loading patterns from local dirpath /home/daniel/aimat/data/opXRD/final/CNRS\u001B[0m\n"
     ]
    },
    {
     "name": "stderr",
     "output_type": "stream",
     "text": [
      "\u001B[38;2;0;255;0m100%\u001B[39m \u001B[38;2;0;255;0m(1052 of 1052)\u001B[39m |####################| Elapsed Time: 0:00:05 Time:  0:00:050000\n"
     ]
    },
    {
     "name": "stdout",
     "output_type": "stream",
     "text": [
      "\u001B[20m[2024-12-19 15:01:15]: Finished loading pattern database located at /home/daniel/aimat/data/opXRD/final/CNRS\u001B[0m\n",
      "\u001B[20m[2024-12-19 15:01:15]: Successfully extracted 1052 patterns from 1052/1052 xrd files\u001B[0m\n",
      "\u001B[20m[2024-12-19 15:01:15]: Loading patterns from local dirpath /home/daniel/aimat/data/opXRD/final/IKFT\u001B[0m\n"
     ]
    },
    {
     "name": "stderr",
     "output_type": "stream",
     "text": [
      "\u001B[38;2;0;255;0m100%\u001B[39m \u001B[38;2;0;255;0m(64 of 64)\u001B[39m |########################| Elapsed Time: 0:00:00 Time:  0:00:000:00\n"
     ]
    },
    {
     "name": "stdout",
     "output_type": "stream",
     "text": [
      "\u001B[20m[2024-12-19 15:01:15]: Finished loading pattern database located at /home/daniel/aimat/data/opXRD/final/IKFT\u001B[0m\n",
      "\u001B[20m[2024-12-19 15:01:15]: Successfully extracted 64 patterns from 64/64 xrd files\u001B[0m\n"
     ]
    }
   ],
   "source": [
    "test_databases = OpXRD.load_project_list(root_dirpath='/home/daniel/aimat/data/opXRD/test')\n",
    "opxrd_databases = OpXRD.load_project_list(root_dirpath='/home/daniel/aimat/data/opXRD/final')"
   ],
   "metadata": {
    "collapsed": false,
    "ExecuteTime": {
     "end_time": "2024-12-19T14:01:15.252185Z",
     "start_time": "2024-12-19T13:58:50.621946Z"
    }
   },
   "id": "3e57191a7033be41",
   "execution_count": 76
  },
  {
   "cell_type": "code",
   "outputs": [],
   "source": [
    "analyser = DatabaseAnalyser(databases=opxrd_databases, output_dirpath='/tmp/opxrd_analysis')\n",
    "analyser.plot_effective_components()"
   ],
   "metadata": {
    "collapsed": false,
    "is_executing": true
   },
   "id": "21e2e0c5e65940e",
   "execution_count": null
  },
  {
   "cell_type": "code",
   "outputs": [],
   "source": [],
   "metadata": {
    "collapsed": false
   },
   "id": "c6e4fc5f39b73c29"
  }
 ],
 "metadata": {
  "kernelspec": {
   "display_name": "Python 3",
   "language": "python",
   "name": "python3"
  },
  "language_info": {
   "codemirror_mode": {
    "name": "ipython",
    "version": 2
   },
   "file_extension": ".py",
   "mimetype": "text/x-python",
   "name": "python",
   "nbconvert_exporter": "python",
   "pygments_lexer": "ipython2",
   "version": "2.7.6"
  }
 },
 "nbformat": 4,
 "nbformat_minor": 5
}
