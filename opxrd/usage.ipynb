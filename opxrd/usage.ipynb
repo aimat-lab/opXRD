{
 "cells": [
  {
   "cell_type": "code",
   "execution_count": null,
   "id": "initial_id",
   "metadata": {
    "collapsed": true,
    "is_executing": true,
    "ExecuteTime": {
     "start_time": "2024-12-03T23:07:11.865624Z"
    }
   },
   "outputs": [],
   "source": [
    "from opxrd import OpXRD\n",
    "\n",
    "opxrd = OpXRD.load(root_dirpath='/tmp/opxrd')\n",
    "opxrd.plot_quantity(attr='spacegroup')"
   ]
  },
  {
   "cell_type": "code",
   "outputs": [],
   "source": [
    "pattern = opxrd.patterns[0]\n",
    "pattern.plot(title='Example pattern', save_fpath=)"
   ],
   "metadata": {
    "collapsed": false
   },
   "id": "f3f5065b29df5401"
  }
 ],
 "metadata": {
  "kernelspec": {
   "display_name": "Python 3",
   "language": "python",
   "name": "python3"
  },
  "language_info": {
   "codemirror_mode": {
    "name": "ipython",
    "version": 2
   },
   "file_extension": ".py",
   "mimetype": "text/x-python",
   "name": "python",
   "nbconvert_exporter": "python",
   "pygments_lexer": "ipython2",
   "version": "2.7.6"
  }
 },
 "nbformat": 4,
 "nbformat_minor": 5
}
