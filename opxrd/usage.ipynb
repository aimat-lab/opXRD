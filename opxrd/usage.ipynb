{
 "cells": [
  {
   "cell_type": "code",
   "outputs": [
    {
     "name": "stdout",
     "output_type": "stream",
     "text": [
      "- Loading patterns from local files\n"
     ]
    },
    {
     "name": "stderr",
     "output_type": "stream",
     "text": [
      "\u001B[38;2;255;156;0m 36%\u001B[39m \u001B[38;2;255;156;0m(8005 of 22041)\u001B[39m |######             | Elapsed Time: 0:00:19 ETA:   0:00:34"
     ]
    }
   ],
   "source": [
    "# opXRD: How to load the database\n",
    "\n",
    "from opxrd import OpXRD\n",
    "\n",
    "opxrd_location = '/tmp/opxrd'\n",
    "opxrd = OpXRD.load(root_dirpath=opxrd_location)"
   ],
   "metadata": {
    "collapsed": false,
    "is_executing": true,
    "ExecuteTime": {
     "start_time": "2024-12-10T01:55:00.287215Z"
    }
   },
   "id": "6932ad3e28c55dfd",
   "execution_count": null
  },
  {
   "cell_type": "code",
   "outputs": [],
   "source": [
    "# opXRD: Show database statistics\n",
    "opxrd.show_histograms(save_fpath='/tmp/quantities_hist.png')"
   ],
   "metadata": {
    "collapsed": false,
    "is_executing": true
   },
   "id": "3d2cc2ebe59afda9",
   "execution_count": null
  },
  {
   "cell_type": "code",
   "outputs": [],
   "source": [
    "\n",
    "# opXRD: How to access pattersn\n",
    "\n",
    "opxrd_pattern = opxrd.patterns[0]\n",
    "print(f'First 20 angles of the first pattern: {opxrd_pattern.two_theta_values[:20]}')\n",
    "print(f'First 20 intensities of the first pattern: {opxrd_pattern.intensities[:20]}')"
   ],
   "metadata": {
    "collapsed": false,
    "is_executing": true
   },
   "id": "26e98a2e4b4e5f9",
   "execution_count": null
  },
  {
   "cell_type": "code",
   "outputs": [],
   "source": [
    "# XrdPattern: Loading individual patterns\n",
    "\n",
    "import sys\n",
    "\n",
    "stdout = sys.stdout\n",
    "from xrdpattern.pattern import XrdPattern\n",
    "from xrdpattern.examples import DataExamples\n",
    "pattern = XrdPattern.load(fpath=DataExamples.get_aimat_fpath())\n",
    "\n",
    "sys.stdout = stdout"
   ],
   "metadata": {
    "collapsed": false,
    "is_executing": true
   },
   "id": "6bf7fbed77e51f31",
   "execution_count": null
  },
  {
   "cell_type": "code",
   "execution_count": null,
   "id": "4ca05f4f3e8be74d",
   "metadata": {
    "collapsed": false,
    "is_executing": true
   },
   "outputs": [],
   "source": [
    "#XrdPattern: Standardize\n",
    "\n",
    "x1,y1, = pattern.get_pattern_data(apply_standardization=True)\n",
    "print(f'Minimum, maximum value of y = {min(y1)}, {max(y1)}')\n",
    "print(f'Two theta values start, end at {x1[0]}, {x1[-1]}')"
   ]
  },
  {
   "cell_type": "code",
   "outputs": [],
   "source": [
    "# XrdPattern: Plot patterns\n",
    "import matplotlib.pyplot as plt\n",
    "\n",
    "a1, i1 = pattern.get_pattern_data(apply_standardization=False)\n",
    "a2, i2 = pattern.get_pattern_data(apply_standardization=True)\n",
    "a3, i3 = pattern.get_pattern_data(apply_standardization=True, apply_constant_padding=True)\n",
    "\n",
    "plt.figure(figsize=(15, 5))\n",
    "titles = ['Without Standardization', 'With Standardization', 'With Standardization and Constant Padding']\n",
    "data = [(a1, i1), (a2, i2), (a3, i3)]\n",
    "\n",
    "for idx, (angles, intensities) in enumerate(data):\n",
    "    plt.subplot(1, 3, idx + 1)\n",
    "    plt.plot(angles, intensities, label=titles[idx])\n",
    "    plt.title(titles[idx])\n",
    "    plt.xlabel('Angle (degrees)')\n",
    "    plt.ylabel('Intensity')\n",
    "    plt.legend()\n",
    "\n",
    "plt.tight_layout()\n",
    "plt.show()"
   ],
   "metadata": {
    "collapsed": false,
    "is_executing": true
   },
   "id": "5fefe7b804040c9a",
   "execution_count": null
  },
  {
   "cell_type": "code",
   "execution_count": null,
   "id": "4bdd7804-6280-4fdd-bf8b-3defcc2c4134",
   "metadata": {
    "is_executing": true
   },
   "outputs": [],
   "source": [
    "# XrdPattern: To tensor (Coming soon!)\n",
    "#import torch\n",
    "#pattern.to_tensorpair(dtype=torch.float32, device=torch.device('cuda'))"
   ]
  }
 ],
 "metadata": {
  "kernelspec": {
   "display_name": "Python 3 (ipykernel)",
   "language": "python",
   "name": "python3"
  },
  "language_info": {
   "codemirror_mode": {
    "name": "ipython",
    "version": 3
   },
   "file_extension": ".py",
   "mimetype": "text/x-python",
   "name": "python",
   "nbconvert_exporter": "python",
   "pygments_lexer": "ipython3",
   "version": "3.11.10"
  }
 },
 "nbformat": 4,
 "nbformat_minor": 5
}
