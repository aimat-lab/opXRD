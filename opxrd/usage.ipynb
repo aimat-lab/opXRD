{
 "cells": [
  {
   "cell_type": "code",
   "outputs": [],
   "source": [
    "# opXRD: How to load the database\n",
    "\n",
    "from opxrd import OpXRD\n",
    "from xrdpattern.pattern import PatternDB\n",
    "\n",
    "opxrd_location = '/tmp/opxrd'"
   ],
   "metadata": {
    "collapsed": false,
    "ExecuteTime": {
     "end_time": "2024-12-08T20:54:22.950464Z",
     "start_time": "2024-12-08T20:54:22.945364Z"
    }
   },
   "id": "6932ad3e28c55dfd",
   "execution_count": 4
  },
  {
   "cell_type": "code",
   "outputs": [
    {
     "name": "stdout",
     "output_type": "stream",
     "text": [
      "- Loading patterns from local files\n"
     ]
    },
    {
     "name": "stderr",
     "output_type": "stream",
     "text": [
      "\u001B[38;2;255;97;0m 15%\u001B[39m \u001B[38;2;255;97;0m(3341 of 22041)\u001B[39m |##                 | Elapsed Time: 0:00:07 ETA:   0:00:42"
     ]
    }
   ],
   "source": [
    "# opXRD: Show database statistics\n",
    "\n",
    "opxrd = OpXRD.load(root_dirpath=opxrd_location)\n",
    "attrs = ['primary_phase.spacegroup', 'num_entries', 'startval', 'endval']\n",
    "opxrd.plot_quantity(attrs=attrs, save_fpath='/tmp/quantities_hist.png')\n",
    "\n",
    "opxrd_dbs = OpXRD.as_database_list(root_dirpath='/tmp/opxrd')\n",
    "PatternDB.show_label_fractions(dbs=opxrd_dbs)"
   ],
   "metadata": {
    "collapsed": false,
    "is_executing": true,
    "ExecuteTime": {
     "start_time": "2024-12-08T20:54:22.964515Z"
    }
   },
   "id": "26e98a2e4b4e5f9",
   "execution_count": null
  },
  {
   "cell_type": "code",
   "outputs": [],
   "source": [
    "# XrdPattern: Loading individual patterns\n",
    "\n",
    "import sys\n",
    "\n",
    "stdout = sys.stdout\n",
    "from xrdpattern.pattern import XrdPattern\n",
    "from xrdpattern.examples import DataExamples\n",
    "pattern = XrdPattern.load(fpath=DataExamples.get_aimat_fpath())\n",
    "\n",
    "sys.stdout = stdout"
   ],
   "metadata": {
    "collapsed": false,
    "is_executing": true
   },
   "id": "6bf7fbed77e51f31",
   "execution_count": null
  },
  {
   "cell_type": "code",
   "execution_count": null,
   "id": "4ca05f4f3e8be74d",
   "metadata": {
    "collapsed": false,
    "is_executing": true
   },
   "outputs": [],
   "source": [
    "#XrdPattern: Standardize\n",
    "\n",
    "x1,y1, = pattern.get_pattern_data(apply_standardization=True)\n",
    "print(f'Minimum, maximum value of y = {min(y1)}, {max(y1)}')\n",
    "print(f'Two theta values start, end at {x1[0]}, {x1[-1]}')"
   ]
  },
  {
   "cell_type": "code",
   "outputs": [],
   "source": [
    "# XrdPattern: Plot patterns\n",
    "import matplotlib.pyplot as plt\n",
    "\n",
    "a1, i1 = pattern.get_pattern_data(apply_standardization=False)\n",
    "a2, i2 = pattern.get_pattern_data(apply_standardization=True)\n",
    "a3, i3 = pattern.get_pattern_data(apply_standardization=True, apply_constant_padding=True)\n",
    "\n",
    "plt.figure(figsize=(15, 5))\n",
    "titles = ['Without Standardization', 'With Standardization', 'With Standardization and Constant Padding']\n",
    "data = [(a1, i1), (a2, i2), (a3, i3)]\n",
    "\n",
    "for idx, (angles, intensities) in enumerate(data):\n",
    "    plt.subplot(1, 3, idx + 1)\n",
    "    plt.plot(angles, intensities, label=titles[idx])\n",
    "    plt.title(titles[idx])\n",
    "    plt.xlabel('Angle (degrees)')\n",
    "    plt.ylabel('Intensity')\n",
    "    plt.legend()\n",
    "\n",
    "plt.tight_layout()\n",
    "plt.show()"
   ],
   "metadata": {
    "collapsed": false,
    "is_executing": true
   },
   "id": "5fefe7b804040c9a",
   "execution_count": null
  },
  {
   "cell_type": "code",
   "execution_count": null,
   "id": "4bdd7804-6280-4fdd-bf8b-3defcc2c4134",
   "metadata": {
    "is_executing": true
   },
   "outputs": [],
   "source": [
    "# XrdPattern: To tensor (Coming soon!)\n",
    "#import torch\n",
    "#pattern.to_tensorpair(dtype=torch.float32, device=torch.device('cuda'))"
   ]
  }
 ],
 "metadata": {
  "kernelspec": {
   "display_name": "Python 3 (ipykernel)",
   "language": "python",
   "name": "python3"
  },
  "language_info": {
   "codemirror_mode": {
    "name": "ipython",
    "version": 3
   },
   "file_extension": ".py",
   "mimetype": "text/x-python",
   "name": "python",
   "nbconvert_exporter": "python",
   "pygments_lexer": "ipython3",
   "version": "3.11.10"
  }
 },
 "nbformat": 4,
 "nbformat_minor": 5
}
