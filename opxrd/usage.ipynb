{
 "cells": [
  {
   "cell_type": "code",
   "execution_count": 3,
   "id": "initial_id",
   "metadata": {
    "collapsed": true,
    "ExecuteTime": {
     "end_time": "2024-12-03T23:11:28.040214Z",
     "start_time": "2024-12-03T23:11:27.998231Z"
    }
   },
   "outputs": [
    {
     "ename": "ValueError",
     "evalue": "Cannot download to existing directory /tmp/opxrd",
     "output_type": "error",
     "traceback": [
      "\u001B[0;31m---------------------------------------------------------------------------\u001B[0m",
      "\u001B[0;31mValueError\u001B[0m                                Traceback (most recent call last)",
      "Cell \u001B[0;32mIn[3], line 3\u001B[0m\n\u001B[1;32m      1\u001B[0m \u001B[38;5;28;01mfrom\u001B[39;00m \u001B[38;5;21;01mopxrd\u001B[39;00m \u001B[38;5;28;01mimport\u001B[39;00m OpXRD\n\u001B[0;32m----> 3\u001B[0m opxrd \u001B[38;5;241m=\u001B[39m \u001B[43mOpXRD\u001B[49m\u001B[38;5;241;43m.\u001B[39;49m\u001B[43mload\u001B[49m\u001B[43m(\u001B[49m\u001B[43mroot_dirpath\u001B[49m\u001B[38;5;241;43m=\u001B[39;49m\u001B[38;5;124;43m'\u001B[39;49m\u001B[38;5;124;43m/tmp/opxrd\u001B[39;49m\u001B[38;5;124;43m'\u001B[39;49m\u001B[43m)\u001B[49m\n\u001B[1;32m      4\u001B[0m opxrd\u001B[38;5;241m.\u001B[39mplot_quantity(attr\u001B[38;5;241m=\u001B[39m\u001B[38;5;124m'\u001B[39m\u001B[38;5;124mprimary_phase.spacegroup\u001B[39m\u001B[38;5;124m'\u001B[39m)\n",
      "File \u001B[0;32m~/aimat/opxrd/opxrd/database/opxrd.py:17\u001B[0m, in \u001B[0;36mOpXRD.load\u001B[0;34m(cls, root_dirpath, download, *args, **kwargs)\u001B[0m\n\u001B[1;32m     14\u001B[0m root_dirpath \u001B[38;5;241m=\u001B[39m os\u001B[38;5;241m.\u001B[39mpath\u001B[38;5;241m.\u001B[39mabspath(root_dirpath)\n\u001B[1;32m     16\u001B[0m \u001B[38;5;28;01mif\u001B[39;00m os\u001B[38;5;241m.\u001B[39mpath\u001B[38;5;241m.\u001B[39misdir(root_dirpath) \u001B[38;5;129;01mand\u001B[39;00m download:\n\u001B[0;32m---> 17\u001B[0m     \u001B[38;5;28;01mraise\u001B[39;00m \u001B[38;5;167;01mValueError\u001B[39;00m(\u001B[38;5;124mf\u001B[39m\u001B[38;5;124m'\u001B[39m\u001B[38;5;124mCannot download to existing directory \u001B[39m\u001B[38;5;132;01m{\u001B[39;00mroot_dirpath\u001B[38;5;132;01m}\u001B[39;00m\u001B[38;5;124m'\u001B[39m)\n\u001B[1;32m     19\u001B[0m \u001B[38;5;28;01mif\u001B[39;00m \u001B[38;5;129;01mnot\u001B[39;00m os\u001B[38;5;241m.\u001B[39mpath\u001B[38;5;241m.\u001B[39misdir(root_dirpath) \u001B[38;5;129;01mand\u001B[39;00m download:\n\u001B[1;32m     20\u001B[0m     tmp_fpath \u001B[38;5;241m=\u001B[39m tempfile\u001B[38;5;241m.\u001B[39mmktemp(suffix\u001B[38;5;241m=\u001B[39m\u001B[38;5;124m'\u001B[39m\u001B[38;5;124m.zip\u001B[39m\u001B[38;5;124m'\u001B[39m)\n",
      "\u001B[0;31mValueError\u001B[0m: Cannot download to existing directory /tmp/opxrd"
     ]
    }
   ],
   "source": [
    "from opxrd import OpXRD\n",
    "\n",
    "opxrd = OpXRD.load(root_dirpath='/tmp/opxrd')\n",
    "opxrd.plot_quantity(attr='primary_phase.spacegroup')"
   ]
  },
  {
   "cell_type": "code",
   "outputs": [],
   "source": [],
   "metadata": {
    "collapsed": false
   },
   "id": "6ac2260491e19597"
  },
  {
   "cell_type": "code",
   "outputs": [],
   "source": [
    "pattern = opxrd.patterns[0]\n",
    "pattern.plot(title='Example pattern')"
   ],
   "metadata": {
    "collapsed": false
   },
   "id": "dd190bb28c7a24a9"
  },
  {
   "cell_type": "code",
   "outputs": [],
   "source": [],
   "metadata": {
    "collapsed": false
   },
   "id": "f3f5065b29df5401"
  }
 ],
 "metadata": {
  "kernelspec": {
   "display_name": "Python 3",
   "language": "python",
   "name": "python3"
  },
  "language_info": {
   "codemirror_mode": {
    "name": "ipython",
    "version": 2
   },
   "file_extension": ".py",
   "mimetype": "text/x-python",
   "name": "python",
   "nbconvert_exporter": "python",
   "pygments_lexer": "ipython2",
   "version": "2.7.6"
  }
 },
 "nbformat": 4,
 "nbformat_minor": 5
}
